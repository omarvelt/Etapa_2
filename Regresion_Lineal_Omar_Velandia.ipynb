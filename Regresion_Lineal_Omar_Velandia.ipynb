{
 "cells": [
  {
   "cell_type": "code",
   "execution_count": 6,
   "id": "1fa3d2d8-b45f-45d3-9c02-bb4ebaecf957",
   "metadata": {
    "tags": []
   },
   "outputs": [],
   "source": [
    "# cargan las librerias\n",
    "import matplotlib.pyplot as plt\n",
    "from sklearn import linear_model\n",
    "import seaborn as sns\n",
    "import numpy as np\n",
    "import pandas as pd"
   ]
  },
  {
   "cell_type": "code",
   "execution_count": 4,
   "id": "000d245b-fc6d-4596-bac5-bab040f5e617",
   "metadata": {
    "tags": []
   },
   "outputs": [],
   "source": [
    "# carga el archivo\n",
    "data=pd.read_csv(\"D:/Datos/data.csv\",sep=\",\")"
   ]
  },
  {
   "cell_type": "code",
   "execution_count": 5,
   "id": "46633f24-9fd6-4015-b79a-85b0418fe2bc",
   "metadata": {
    "tags": []
   },
   "outputs": [
    {
     "data": {
      "text/html": [
       "<div>\n",
       "<style scoped>\n",
       "    .dataframe tbody tr th:only-of-type {\n",
       "        vertical-align: middle;\n",
       "    }\n",
       "\n",
       "    .dataframe tbody tr th {\n",
       "        vertical-align: top;\n",
       "    }\n",
       "\n",
       "    .dataframe thead th {\n",
       "        text-align: right;\n",
       "    }\n",
       "</style>\n",
       "<table border=\"1\" class=\"dataframe\">\n",
       "  <thead>\n",
       "    <tr style=\"text-align: right;\">\n",
       "      <th></th>\n",
       "      <th>metro</th>\n",
       "      <th>precio</th>\n",
       "    </tr>\n",
       "  </thead>\n",
       "  <tbody>\n",
       "    <tr>\n",
       "      <th>0</th>\n",
       "      <td>5</td>\n",
       "      <td>375</td>\n",
       "    </tr>\n",
       "    <tr>\n",
       "      <th>1</th>\n",
       "      <td>15</td>\n",
       "      <td>487</td>\n",
       "    </tr>\n",
       "    <tr>\n",
       "      <th>2</th>\n",
       "      <td>20</td>\n",
       "      <td>450</td>\n",
       "    </tr>\n",
       "    <tr>\n",
       "      <th>3</th>\n",
       "      <td>25</td>\n",
       "      <td>500</td>\n",
       "    </tr>\n",
       "  </tbody>\n",
       "</table>\n",
       "</div>"
      ],
      "text/plain": [
       "   metro  precio\n",
       "0      5     375\n",
       "1     15     487\n",
       "2     20     450\n",
       "3     25     500"
      ]
     },
     "execution_count": 5,
     "metadata": {},
     "output_type": "execute_result"
    }
   ],
   "source": [
    "# visualiza el Archivo\n",
    "data"
   ]
  },
  {
   "cell_type": "code",
   "execution_count": 7,
   "id": "c105fa41-e1fe-4dcf-9bba-fac9c2a26a2b",
   "metadata": {
    "tags": []
   },
   "outputs": [
    {
     "data": {
      "text/plain": [
       "<bound method NDFrame.describe of    metro  precio\n",
       "0      5     375\n",
       "1     15     487\n",
       "2     20     450\n",
       "3     25     500>"
      ]
     },
     "execution_count": 7,
     "metadata": {},
     "output_type": "execute_result"
    }
   ],
   "source": [
    "# descripción de elementos\n",
    "data.columns\n",
    "data.info\n",
    "data.describe"
   ]
  },
  {
   "cell_type": "code",
   "execution_count": 8,
   "id": "482d04af-7b7f-419a-8418-6d1288b75bbe",
   "metadata": {
    "tags": []
   },
   "outputs": [
    {
     "data": {
      "image/png": "[encoded data removed]",
      "text/plain": [
       "<Figure size 640x480 with 1 Axes>"
      ]
     },
     "metadata": {},
     "output_type": "display_data"
    }
   ],
   "source": [
    "# grafica de dispersión.\n",
    "data.plot.scatter(x=\"metro\", y=\"precio\")\n",
    "plt.show()"
   ]
  },
  {
   "cell_type": "code",
   "execution_count": 9,
   "id": "589abd2c-ba95-49e7-828b-331920d5cdeb",
   "metadata": {
    "tags": []
   },
   "outputs": [],
   "source": [
    "# regresion lineal.\n",
    "regresion=linear_model.LinearRegression()"
   ]
  },
  {
   "cell_type": "code",
   "execution_count": 20,
   "id": "9a800c1b-e3e2-49f1-b1c3-eada90f943a7",
   "metadata": {
    "tags": []
   },
   "outputs": [],
   "source": [
    "#datos de arrayo vector.\n",
    "metros = data[\"metro\"].values.reshape((-1,1))"
   ]
  },
  {
   "cell_type": "code",
   "execution_count": 21,
   "id": "7c6a0e52-4dc3-47ed-8a84-33da2f521763",
   "metadata": {
    "tags": []
   },
   "outputs": [],
   "source": [
    "# se crea modelo.\n",
    "modelo=regresion.fit(metros,data[\"precio\"])"
   ]
  },
  {
   "cell_type": "code",
   "execution_count": 22,
   "id": "0e1a2347-21bf-4688-a79a-5e6a7facbccc",
   "metadata": {
    "tags": []
   },
   "outputs": [
    {
     "name": "stdout",
     "output_type": "stream",
     "text": [
      "Interseccion (b) 361.25714285714287\n",
      "Pendiente (m) [5.64571429]\n"
     ]
    }
   ],
   "source": [
    "#se crea punto intersección y pendiente.\n",
    "print (\"Interseccion (b)\", modelo.intercept_)\n",
    "print (\"Pendiente (m)\", modelo.coef_)\n"
   ]
  },
  {
   "cell_type": "code",
   "execution_count": 25,
   "id": "6cd5329d-1926-4adb-80fb-00d1e9747f5f",
   "metadata": {
    "tags": []
   },
   "outputs": [
    {
     "name": "stdout",
     "output_type": "stream",
     "text": [
      "[389.48571429 400.77714286 417.71428571 445.94285714 474.17142857\n",
      " 502.4       ]\n"
     ]
    }
   ],
   "source": [
    "#se definen entradas\n",
    "entrada= [[5],[7],[10],[15],[20],[25]]\n",
    "predicciones = modelo.predict(entrada)\n",
    "print(predicciones)\n"
   ]
  },
  {
   "cell_type": "code",
   "execution_count": 27,
   "id": "5446f5c5-490d-4165-853a-2b2b0281af10",
   "metadata": {
    "tags": []
   },
   "outputs": [
    {
     "data": {
      "image/png": "[encoded data removed]",
      "text/plain": [
       "<Figure size 640x480 with 1 Axes>"
      ]
     },
     "metadata": {},
     "output_type": "display_data"
    }
   ],
   "source": [
    "# se Imprime grafica.\n",
    "data.plot.scatter(x=\"metro\", y=\"precio\", label='Data')\n",
    "plt.scatter(entrada, predicciones, color='orange')\n",
    "plt.plot(entrada, predicciones, color='gray', label='Linea de Regresion')\n",
    "plt.xlabel('metro')\n",
    "plt.ylabel('precio')\n",
    "plt.legend()\n",
    "plt.show()"
   ]
  },
  {
   "cell_type": "code",
   "execution_count": null,
   "id": "deaaf9d4-26be-43b5-9453-bf66d0d22081",
   "metadata": {},
   "outputs": [],
   "source": []
  }
 ],
 "metadata": {
  "kernelspec": {
   "display_name": "Python 3 (ipykernel)",
   "language": "python",
   "name": "python3"
  },
  "language_info": {
   "codemirror_mode": {
    "name": "ipython",
    "version": 3
   },
   "file_extension": ".py",
   "mimetype": "text/x-python",
   "name": "python",
   "nbconvert_exporter": "python",
   "pygments_lexer": "ipython3",
   "version": "3.11.4"
  }
 },
 "nbformat": 4,
 "nbformat_minor": 5
}
